{
 "cells": [
  {
   "cell_type": "markdown",
   "id": "f40db9db",
   "metadata": {},
   "source": [
    "# BOARD INFINITY\n",
    " \n",
    " # *************DECODE 11.3 HACKATHON\n",
    " \n",
    " # DONE BY - M.GURUPRASAD REDDY"
   ]
  },
  {
   "cell_type": "code",
   "execution_count": 41,
   "id": "f5d128e5",
   "metadata": {},
   "outputs": [],
   "source": [
    "#importing the required libraries\n",
    "import pandas as pd\n",
    "import numpy as np\n",
    "import matplotlib.pyplot as plt\n",
    "import seaborn as sns"
   ]
  },
  {
   "cell_type": "code",
   "execution_count": 42,
   "id": "a5dde7c6",
   "metadata": {},
   "outputs": [
    {
     "data": {
      "text/plain": [
       "'C:\\\\Users\\\\GURU\\\\Downloads\\\\Hackathon'"
      ]
     },
     "execution_count": 42,
     "metadata": {},
     "output_type": "execute_result"
    }
   ],
   "source": [
    "pwd"
   ]
  },
  {
   "cell_type": "code",
   "execution_count": 43,
   "id": "047cece8",
   "metadata": {},
   "outputs": [],
   "source": [
    "#loading the data into the dataframe\n",
    "data=pd.read_excel(\"C:\\\\Users\\GURU\\Downloads\\Hackathon\\Dataset.hackathon.xlsx\")"
   ]
  },
  {
   "cell_type": "code",
   "execution_count": 44,
   "id": "e1d0c4d2",
   "metadata": {},
   "outputs": [
    {
     "data": {
      "text/plain": [
       "Index(['Ticket Id', 'Student or WP', 'Program Name', 'Status (Ticket)',\n",
       "       'Created Time (Ticket)', 'Ticket Closed Time', 'First Response Time',\n",
       "       'Project Phase'],\n",
       "      dtype='object')"
      ]
     },
     "execution_count": 44,
     "metadata": {},
     "output_type": "execute_result"
    }
   ],
   "source": [
    "data.columns"
   ]
  },
  {
   "cell_type": "code",
   "execution_count": 45,
   "id": "aa7a224e",
   "metadata": {},
   "outputs": [
    {
     "data": {
      "text/html": [
       "<div>\n",
       "<style scoped>\n",
       "    .dataframe tbody tr th:only-of-type {\n",
       "        vertical-align: middle;\n",
       "    }\n",
       "\n",
       "    .dataframe tbody tr th {\n",
       "        vertical-align: top;\n",
       "    }\n",
       "\n",
       "    .dataframe thead th {\n",
       "        text-align: right;\n",
       "    }\n",
       "</style>\n",
       "<table border=\"1\" class=\"dataframe\">\n",
       "  <thead>\n",
       "    <tr style=\"text-align: right;\">\n",
       "      <th></th>\n",
       "      <th>Ticket Id</th>\n",
       "      <th>Student or WP</th>\n",
       "      <th>Program Name</th>\n",
       "      <th>Status (Ticket)</th>\n",
       "      <th>Created Time (Ticket)</th>\n",
       "      <th>Ticket Closed Time</th>\n",
       "      <th>First Response Time</th>\n",
       "      <th>Project Phase</th>\n",
       "    </tr>\n",
       "  </thead>\n",
       "  <tbody>\n",
       "    <tr>\n",
       "      <th>0</th>\n",
       "      <td>6403</td>\n",
       "      <td>Working Professionals</td>\n",
       "      <td>Fullstack Program</td>\n",
       "      <td>Closed</td>\n",
       "      <td>2021-05-14 01:09:00</td>\n",
       "      <td>2021-05-14 19:04:00</td>\n",
       "      <td>2021-05-14 08:51:07</td>\n",
       "      <td>trial phase</td>\n",
       "    </tr>\n",
       "    <tr>\n",
       "      <th>1</th>\n",
       "      <td>6415</td>\n",
       "      <td>Working Professionals</td>\n",
       "      <td>Backend Program</td>\n",
       "      <td>Duplicate</td>\n",
       "      <td>2021-05-14 10:12:00</td>\n",
       "      <td>2021-05-14 11:23:00</td>\n",
       "      <td>NaT</td>\n",
       "      <td>trial phase</td>\n",
       "    </tr>\n",
       "    <tr>\n",
       "      <th>2</th>\n",
       "      <td>6420</td>\n",
       "      <td>Working Professionals</td>\n",
       "      <td>Fullstack Program</td>\n",
       "      <td>Closed</td>\n",
       "      <td>2021-05-14 11:46:00</td>\n",
       "      <td>2021-05-16 00:09:00</td>\n",
       "      <td>2021-05-14 18:14:51</td>\n",
       "      <td>trial phase</td>\n",
       "    </tr>\n",
       "    <tr>\n",
       "      <th>3</th>\n",
       "      <td>6402</td>\n",
       "      <td>Student</td>\n",
       "      <td>Fullstack Program</td>\n",
       "      <td>Closed</td>\n",
       "      <td>2021-05-14 01:08:00</td>\n",
       "      <td>2021-05-14 19:04:00</td>\n",
       "      <td>2021-05-14 14:45:04</td>\n",
       "      <td>fullstack-phase-1</td>\n",
       "    </tr>\n",
       "    <tr>\n",
       "      <th>4</th>\n",
       "      <td>6423</td>\n",
       "      <td>Working Professionals</td>\n",
       "      <td>Fellowship Program</td>\n",
       "      <td>Closed</td>\n",
       "      <td>2021-05-14 12:17:00</td>\n",
       "      <td>2021-05-14 20:39:00</td>\n",
       "      <td>2021-05-14 12:21:13</td>\n",
       "      <td>trial phase</td>\n",
       "    </tr>\n",
       "    <tr>\n",
       "      <th>5</th>\n",
       "      <td>6429</td>\n",
       "      <td>Working Professionals</td>\n",
       "      <td>Fullstack Program</td>\n",
       "      <td>Closed</td>\n",
       "      <td>2021-05-14 13:04:00</td>\n",
       "      <td>2021-05-16 12:43:00</td>\n",
       "      <td>2021-05-14 20:44:12</td>\n",
       "      <td>fullstack-phase-1</td>\n",
       "    </tr>\n",
       "    <tr>\n",
       "      <th>6</th>\n",
       "      <td>6404</td>\n",
       "      <td>Student</td>\n",
       "      <td>Fullstack Program</td>\n",
       "      <td>Deleted</td>\n",
       "      <td>2021-05-14 01:12:00</td>\n",
       "      <td>2021-05-14 01:13:00</td>\n",
       "      <td>NaT</td>\n",
       "      <td>fullstack-phase-2</td>\n",
       "    </tr>\n",
       "    <tr>\n",
       "      <th>7</th>\n",
       "      <td>6405</td>\n",
       "      <td>Student</td>\n",
       "      <td>Fullstack Program</td>\n",
       "      <td>Closed</td>\n",
       "      <td>2021-05-14 01:23:00</td>\n",
       "      <td>2021-05-18 19:15:00</td>\n",
       "      <td>2021-05-14 14:15:15</td>\n",
       "      <td>fullstack-phase-2</td>\n",
       "    </tr>\n",
       "    <tr>\n",
       "      <th>8</th>\n",
       "      <td>6400</td>\n",
       "      <td>Student</td>\n",
       "      <td>Fellowship Program</td>\n",
       "      <td>Closed</td>\n",
       "      <td>2021-05-14 00:26:00</td>\n",
       "      <td>2021-05-14 11:18:00</td>\n",
       "      <td>2021-05-14 08:32:46</td>\n",
       "      <td>system-issues</td>\n",
       "    </tr>\n",
       "    <tr>\n",
       "      <th>9</th>\n",
       "      <td>6411</td>\n",
       "      <td>Working Professionals</td>\n",
       "      <td>Backend Program</td>\n",
       "      <td>Closed</td>\n",
       "      <td>2021-05-14 02:15:00</td>\n",
       "      <td>2021-05-17 22:19:00</td>\n",
       "      <td>2021-05-14 11:54:30</td>\n",
       "      <td>backend-phase2</td>\n",
       "    </tr>\n",
       "    <tr>\n",
       "      <th>10</th>\n",
       "      <td>6443</td>\n",
       "      <td>Working Professionals</td>\n",
       "      <td>Backend Program</td>\n",
       "      <td>Closed</td>\n",
       "      <td>2021-05-14 14:06:00</td>\n",
       "      <td>2021-05-14 20:45:00</td>\n",
       "      <td>2021-05-14 15:20:45</td>\n",
       "      <td>backend-phase2</td>\n",
       "    </tr>\n",
       "    <tr>\n",
       "      <th>11</th>\n",
       "      <td>6401</td>\n",
       "      <td>Student</td>\n",
       "      <td>Fellowship Program</td>\n",
       "      <td>Closed</td>\n",
       "      <td>2021-05-14 00:26:00</td>\n",
       "      <td>2021-05-15 20:58:00</td>\n",
       "      <td>2021-05-16 12:10:10</td>\n",
       "      <td>system-issues</td>\n",
       "    </tr>\n",
       "    <tr>\n",
       "      <th>12</th>\n",
       "      <td>6419</td>\n",
       "      <td>Working Professionals</td>\n",
       "      <td>Backend Program</td>\n",
       "      <td>Closed</td>\n",
       "      <td>2021-05-14 11:27:00</td>\n",
       "      <td>2021-05-16 12:13:00</td>\n",
       "      <td>2021-05-14 11:47:33</td>\n",
       "      <td>system-issues</td>\n",
       "    </tr>\n",
       "    <tr>\n",
       "      <th>13</th>\n",
       "      <td>6407</td>\n",
       "      <td>Student</td>\n",
       "      <td>Fullstack Program</td>\n",
       "      <td>Closed</td>\n",
       "      <td>2021-05-14 01:28:00</td>\n",
       "      <td>2021-05-16 12:10:00</td>\n",
       "      <td>2021-05-14 21:26:25</td>\n",
       "      <td>fullstack-phase-4</td>\n",
       "    </tr>\n",
       "    <tr>\n",
       "      <th>14</th>\n",
       "      <td>6448</td>\n",
       "      <td>Student</td>\n",
       "      <td>Fullstack Program</td>\n",
       "      <td>Closed</td>\n",
       "      <td>2021-05-14 14:31:00</td>\n",
       "      <td>2021-05-16 12:41:00</td>\n",
       "      <td>2021-05-14 21:10:33</td>\n",
       "      <td>fullstack-phase-4</td>\n",
       "    </tr>\n",
       "  </tbody>\n",
       "</table>\n",
       "</div>"
      ],
      "text/plain": [
       "    Ticket Id          Student or WP        Program Name Status (Ticket)  \\\n",
       "0        6403  Working Professionals   Fullstack Program          Closed   \n",
       "1        6415  Working Professionals     Backend Program       Duplicate   \n",
       "2        6420  Working Professionals   Fullstack Program          Closed   \n",
       "3        6402                Student   Fullstack Program          Closed   \n",
       "4        6423  Working Professionals  Fellowship Program          Closed   \n",
       "5        6429  Working Professionals   Fullstack Program          Closed   \n",
       "6        6404                Student   Fullstack Program         Deleted   \n",
       "7        6405                Student   Fullstack Program          Closed   \n",
       "8        6400                Student  Fellowship Program          Closed   \n",
       "9        6411  Working Professionals     Backend Program          Closed   \n",
       "10       6443  Working Professionals     Backend Program          Closed   \n",
       "11       6401                Student  Fellowship Program          Closed   \n",
       "12       6419  Working Professionals     Backend Program          Closed   \n",
       "13       6407                Student   Fullstack Program          Closed   \n",
       "14       6448                Student   Fullstack Program          Closed   \n",
       "\n",
       "   Created Time (Ticket)   Ticket Closed Time First Response Time  \\\n",
       "0    2021-05-14 01:09:00  2021-05-14 19:04:00 2021-05-14 08:51:07   \n",
       "1    2021-05-14 10:12:00  2021-05-14 11:23:00                 NaT   \n",
       "2    2021-05-14 11:46:00  2021-05-16 00:09:00 2021-05-14 18:14:51   \n",
       "3    2021-05-14 01:08:00  2021-05-14 19:04:00 2021-05-14 14:45:04   \n",
       "4    2021-05-14 12:17:00  2021-05-14 20:39:00 2021-05-14 12:21:13   \n",
       "5    2021-05-14 13:04:00  2021-05-16 12:43:00 2021-05-14 20:44:12   \n",
       "6    2021-05-14 01:12:00  2021-05-14 01:13:00                 NaT   \n",
       "7    2021-05-14 01:23:00  2021-05-18 19:15:00 2021-05-14 14:15:15   \n",
       "8    2021-05-14 00:26:00  2021-05-14 11:18:00 2021-05-14 08:32:46   \n",
       "9    2021-05-14 02:15:00  2021-05-17 22:19:00 2021-05-14 11:54:30   \n",
       "10   2021-05-14 14:06:00  2021-05-14 20:45:00 2021-05-14 15:20:45   \n",
       "11   2021-05-14 00:26:00  2021-05-15 20:58:00 2021-05-16 12:10:10   \n",
       "12   2021-05-14 11:27:00  2021-05-16 12:13:00 2021-05-14 11:47:33   \n",
       "13   2021-05-14 01:28:00  2021-05-16 12:10:00 2021-05-14 21:26:25   \n",
       "14   2021-05-14 14:31:00  2021-05-16 12:41:00 2021-05-14 21:10:33   \n",
       "\n",
       "        Project Phase  \n",
       "0         trial phase  \n",
       "1         trial phase  \n",
       "2         trial phase  \n",
       "3   fullstack-phase-1  \n",
       "4         trial phase  \n",
       "5   fullstack-phase-1  \n",
       "6   fullstack-phase-2  \n",
       "7   fullstack-phase-2  \n",
       "8       system-issues  \n",
       "9      backend-phase2  \n",
       "10     backend-phase2  \n",
       "11      system-issues  \n",
       "12      system-issues  \n",
       "13  fullstack-phase-4  \n",
       "14  fullstack-phase-4  "
      ]
     },
     "execution_count": 45,
     "metadata": {},
     "output_type": "execute_result"
    }
   ],
   "source": [
    "data.head(15)"
   ]
  },
  {
   "cell_type": "code",
   "execution_count": 46,
   "id": "5caf824b",
   "metadata": {},
   "outputs": [
    {
     "name": "stdout",
     "output_type": "stream",
     "text": [
      "<class 'pandas.core.frame.DataFrame'>\n",
      "RangeIndex: 476 entries, 0 to 475\n",
      "Data columns (total 8 columns):\n",
      " #   Column                 Non-Null Count  Dtype         \n",
      "---  ------                 --------------  -----         \n",
      " 0   Ticket Id              476 non-null    int64         \n",
      " 1   Student or WP          476 non-null    object        \n",
      " 2   Program Name           476 non-null    object        \n",
      " 3   Status (Ticket)        476 non-null    object        \n",
      " 4   Created Time (Ticket)  476 non-null    datetime64[ns]\n",
      " 5   Ticket Closed Time     476 non-null    object        \n",
      " 6   First Response Time    366 non-null    datetime64[ns]\n",
      " 7   Project Phase          476 non-null    object        \n",
      "dtypes: datetime64[ns](2), int64(1), object(5)\n",
      "memory usage: 29.9+ KB\n"
     ]
    }
   ],
   "source": [
    "#Getting the information of the data \n",
    "data.info()"
   ]
  },
  {
   "cell_type": "markdown",
   "id": "68536985",
   "metadata": {},
   "source": [
    "#  Check the Datatypes and convert relevant columns to Date and Time format.\n",
    "\n"
   ]
  },
  {
   "cell_type": "code",
   "execution_count": 47,
   "id": "56aa6c40",
   "metadata": {},
   "outputs": [
    {
     "data": {
      "text/plain": [
       "Ticket Id                         int64\n",
       "Student or WP                    object\n",
       "Program Name                     object\n",
       "Status (Ticket)                  object\n",
       "Created Time (Ticket)    datetime64[ns]\n",
       "Ticket Closed Time               object\n",
       "First Response Time      datetime64[ns]\n",
       "Project Phase                    object\n",
       "dtype: object"
      ]
     },
     "execution_count": 47,
     "metadata": {},
     "output_type": "execute_result"
    }
   ],
   "source": [
    "#checking  the datatypes of the columns \n",
    "data.dtypes"
   ]
  },
  {
   "cell_type": "code",
   "execution_count": 48,
   "id": "4d2f8623",
   "metadata": {},
   "outputs": [],
   "source": [
    "# We know that Ticket Closed Time should be in datetime format so,\n",
    "# Converting the Ticket Closed Time to datetime datatype.\n",
    "data[\"Ticket Closed Time\"]=pd.to_datetime(data[\"Ticket Closed Time\"],errors=\"coerce\")"
   ]
  },
  {
   "cell_type": "code",
   "execution_count": 49,
   "id": "bd9b4697",
   "metadata": {},
   "outputs": [
    {
     "data": {
      "text/plain": [
       "Ticket Id                         int64\n",
       "Student or WP                    object\n",
       "Program Name                     object\n",
       "Status (Ticket)                  object\n",
       "Created Time (Ticket)    datetime64[ns]\n",
       "Ticket Closed Time       datetime64[ns]\n",
       "First Response Time      datetime64[ns]\n",
       "Project Phase                    object\n",
       "dtype: object"
      ]
     },
     "execution_count": 49,
     "metadata": {},
     "output_type": "execute_result"
    }
   ],
   "source": [
    "data.dtypes"
   ]
  },
  {
   "cell_type": "code",
   "execution_count": 50,
   "id": "71ec9b1b",
   "metadata": {},
   "outputs": [
    {
     "data": {
      "text/plain": [
       "Ticket Id                  0\n",
       "Student or WP              0\n",
       "Program Name               0\n",
       "Status (Ticket)            0\n",
       "Created Time (Ticket)      0\n",
       "Ticket Closed Time         8\n",
       "First Response Time      110\n",
       "Project Phase              0\n",
       "dtype: int64"
      ]
     },
     "execution_count": 50,
     "metadata": {},
     "output_type": "execute_result"
    }
   ],
   "source": [
    "#checking for the missing values in the data.\n",
    "data.isnull().sum()"
   ]
  },
  {
   "cell_type": "markdown",
   "id": "2e9a8ac6",
   "metadata": {},
   "source": [
    "# Fill the null values in First response time "
   ]
  },
  {
   "cell_type": "code",
   "execution_count": 51,
   "id": "9e028ba5",
   "metadata": {
    "scrolled": true
   },
   "outputs": [
    {
     "data": {
      "text/plain": [
       "Timedelta('0 days 07:38:23.674863387')"
      ]
     },
     "execution_count": 51,
     "metadata": {},
     "output_type": "execute_result"
    }
   ],
   "source": [
    "#  Finding the average time to give the first responce to the tickets.\n",
    "avg_first_res_time = np.mean(data[\"First Response Time\"]-data[\"Created Time (Ticket)\"])\n",
    "avg_first_res_time\n"
   ]
  },
  {
   "cell_type": "code",
   "execution_count": 52,
   "id": "3e0e8d54",
   "metadata": {},
   "outputs": [],
   "source": [
    " # timedelta is being used for adding time to Created Time (Ticket) column. \n",
    "from datetime import timedelta\n",
    "data[\"First Response Time\"].fillna((data[\"Created Time (Ticket)\"]\\\n",
    "                                    +timedelta(hours=7,minutes=38,seconds=23.674863387)),inplace=True)"
   ]
  },
  {
   "cell_type": "code",
   "execution_count": 53,
   "id": "dbdd2d82",
   "metadata": {},
   "outputs": [
    {
     "data": {
      "text/plain": [
       "Ticket Id                0\n",
       "Student or WP            0\n",
       "Program Name             0\n",
       "Status (Ticket)          0\n",
       "Created Time (Ticket)    0\n",
       "Ticket Closed Time       8\n",
       "First Response Time      0\n",
       "Project Phase            0\n",
       "dtype: int64"
      ]
     },
     "execution_count": 53,
     "metadata": {},
     "output_type": "execute_result"
    }
   ],
   "source": [
    "data.isnull().sum()"
   ]
  },
  {
   "cell_type": "markdown",
   "id": "048f1997",
   "metadata": {},
   "source": [
    "# Fill the null values in Ticket Closed Time "
   ]
  },
  {
   "cell_type": "code",
   "execution_count": 54,
   "id": "c8261edc",
   "metadata": {},
   "outputs": [
    {
     "data": {
      "text/plain": [
       "Timedelta('0 days 20:59:28.461538461')"
      ]
     },
     "execution_count": 54,
     "metadata": {},
     "output_type": "execute_result"
    }
   ],
   "source": [
    "#finding the average time to close the tickets .\n",
    "avg_close_time = np.mean(data[\"Ticket Closed Time\"]-data[\"Created Time (Ticket)\"])\n",
    "avg_close_time"
   ]
  },
  {
   "cell_type": "code",
   "execution_count": 55,
   "id": "708eb377",
   "metadata": {},
   "outputs": [],
   "source": [
    "#filling the null values with the average close time .\n",
    "data[\"Ticket Closed Time\"].fillna((data[\"Created Time (Ticket)\"]\\\n",
    "                                    +timedelta(hours=20,minutes=59,seconds=28.461538461)),inplace=True)"
   ]
  },
  {
   "cell_type": "code",
   "execution_count": 56,
   "id": "f8951ef7",
   "metadata": {},
   "outputs": [
    {
     "data": {
      "text/plain": [
       "Ticket Id                0\n",
       "Student or WP            0\n",
       "Program Name             0\n",
       "Status (Ticket)          0\n",
       "Created Time (Ticket)    0\n",
       "Ticket Closed Time       0\n",
       "First Response Time      0\n",
       "Project Phase            0\n",
       "dtype: int64"
      ]
     },
     "execution_count": 56,
     "metadata": {},
     "output_type": "execute_result"
    }
   ],
   "source": [
    "data.isnull().sum()"
   ]
  },
  {
   "cell_type": "markdown",
   "id": "f38b2d87",
   "metadata": {},
   "source": [
    " # Now we got the clean data and without any null values."
   ]
  },
  {
   "cell_type": "code",
   "execution_count": 57,
   "id": "667f785c",
   "metadata": {},
   "outputs": [
    {
     "data": {
      "text/html": [
       "<div>\n",
       "<style scoped>\n",
       "    .dataframe tbody tr th:only-of-type {\n",
       "        vertical-align: middle;\n",
       "    }\n",
       "\n",
       "    .dataframe tbody tr th {\n",
       "        vertical-align: top;\n",
       "    }\n",
       "\n",
       "    .dataframe thead th {\n",
       "        text-align: right;\n",
       "    }\n",
       "</style>\n",
       "<table border=\"1\" class=\"dataframe\">\n",
       "  <thead>\n",
       "    <tr style=\"text-align: right;\">\n",
       "      <th></th>\n",
       "      <th>Ticket Id</th>\n",
       "      <th>Student or WP</th>\n",
       "      <th>Program Name</th>\n",
       "      <th>Status (Ticket)</th>\n",
       "      <th>Created Time (Ticket)</th>\n",
       "      <th>Ticket Closed Time</th>\n",
       "      <th>First Response Time</th>\n",
       "      <th>Project Phase</th>\n",
       "    </tr>\n",
       "  </thead>\n",
       "  <tbody>\n",
       "    <tr>\n",
       "      <th>0</th>\n",
       "      <td>6403</td>\n",
       "      <td>Working Professionals</td>\n",
       "      <td>Fullstack Program</td>\n",
       "      <td>Closed</td>\n",
       "      <td>2021-05-14 01:09:00</td>\n",
       "      <td>2021-05-14 19:04:00</td>\n",
       "      <td>2021-05-14 08:51:07.000000</td>\n",
       "      <td>trial phase</td>\n",
       "    </tr>\n",
       "    <tr>\n",
       "      <th>1</th>\n",
       "      <td>6415</td>\n",
       "      <td>Working Professionals</td>\n",
       "      <td>Backend Program</td>\n",
       "      <td>Duplicate</td>\n",
       "      <td>2021-05-14 10:12:00</td>\n",
       "      <td>2021-05-14 11:23:00</td>\n",
       "      <td>2021-05-14 17:50:23.674863</td>\n",
       "      <td>trial phase</td>\n",
       "    </tr>\n",
       "    <tr>\n",
       "      <th>2</th>\n",
       "      <td>6420</td>\n",
       "      <td>Working Professionals</td>\n",
       "      <td>Fullstack Program</td>\n",
       "      <td>Closed</td>\n",
       "      <td>2021-05-14 11:46:00</td>\n",
       "      <td>2021-05-16 00:09:00</td>\n",
       "      <td>2021-05-14 18:14:51.000000</td>\n",
       "      <td>trial phase</td>\n",
       "    </tr>\n",
       "    <tr>\n",
       "      <th>3</th>\n",
       "      <td>6402</td>\n",
       "      <td>Student</td>\n",
       "      <td>Fullstack Program</td>\n",
       "      <td>Closed</td>\n",
       "      <td>2021-05-14 01:08:00</td>\n",
       "      <td>2021-05-14 19:04:00</td>\n",
       "      <td>2021-05-14 14:45:04.000000</td>\n",
       "      <td>fullstack-phase-1</td>\n",
       "    </tr>\n",
       "    <tr>\n",
       "      <th>4</th>\n",
       "      <td>6423</td>\n",
       "      <td>Working Professionals</td>\n",
       "      <td>Fellowship Program</td>\n",
       "      <td>Closed</td>\n",
       "      <td>2021-05-14 12:17:00</td>\n",
       "      <td>2021-05-14 20:39:00</td>\n",
       "      <td>2021-05-14 12:21:13.000000</td>\n",
       "      <td>trial phase</td>\n",
       "    </tr>\n",
       "    <tr>\n",
       "      <th>5</th>\n",
       "      <td>6429</td>\n",
       "      <td>Working Professionals</td>\n",
       "      <td>Fullstack Program</td>\n",
       "      <td>Closed</td>\n",
       "      <td>2021-05-14 13:04:00</td>\n",
       "      <td>2021-05-16 12:43:00</td>\n",
       "      <td>2021-05-14 20:44:12.000000</td>\n",
       "      <td>fullstack-phase-1</td>\n",
       "    </tr>\n",
       "    <tr>\n",
       "      <th>6</th>\n",
       "      <td>6404</td>\n",
       "      <td>Student</td>\n",
       "      <td>Fullstack Program</td>\n",
       "      <td>Deleted</td>\n",
       "      <td>2021-05-14 01:12:00</td>\n",
       "      <td>2021-05-14 01:13:00</td>\n",
       "      <td>2021-05-14 08:50:23.674863</td>\n",
       "      <td>fullstack-phase-2</td>\n",
       "    </tr>\n",
       "    <tr>\n",
       "      <th>7</th>\n",
       "      <td>6405</td>\n",
       "      <td>Student</td>\n",
       "      <td>Fullstack Program</td>\n",
       "      <td>Closed</td>\n",
       "      <td>2021-05-14 01:23:00</td>\n",
       "      <td>2021-05-18 19:15:00</td>\n",
       "      <td>2021-05-14 14:15:15.000000</td>\n",
       "      <td>fullstack-phase-2</td>\n",
       "    </tr>\n",
       "    <tr>\n",
       "      <th>8</th>\n",
       "      <td>6400</td>\n",
       "      <td>Student</td>\n",
       "      <td>Fellowship Program</td>\n",
       "      <td>Closed</td>\n",
       "      <td>2021-05-14 00:26:00</td>\n",
       "      <td>2021-05-14 11:18:00</td>\n",
       "      <td>2021-05-14 08:32:46.000000</td>\n",
       "      <td>system-issues</td>\n",
       "    </tr>\n",
       "    <tr>\n",
       "      <th>9</th>\n",
       "      <td>6411</td>\n",
       "      <td>Working Professionals</td>\n",
       "      <td>Backend Program</td>\n",
       "      <td>Closed</td>\n",
       "      <td>2021-05-14 02:15:00</td>\n",
       "      <td>2021-05-17 22:19:00</td>\n",
       "      <td>2021-05-14 11:54:30.000000</td>\n",
       "      <td>backend-phase2</td>\n",
       "    </tr>\n",
       "  </tbody>\n",
       "</table>\n",
       "</div>"
      ],
      "text/plain": [
       "   Ticket Id          Student or WP        Program Name Status (Ticket)  \\\n",
       "0       6403  Working Professionals   Fullstack Program          Closed   \n",
       "1       6415  Working Professionals     Backend Program       Duplicate   \n",
       "2       6420  Working Professionals   Fullstack Program          Closed   \n",
       "3       6402                Student   Fullstack Program          Closed   \n",
       "4       6423  Working Professionals  Fellowship Program          Closed   \n",
       "5       6429  Working Professionals   Fullstack Program          Closed   \n",
       "6       6404                Student   Fullstack Program         Deleted   \n",
       "7       6405                Student   Fullstack Program          Closed   \n",
       "8       6400                Student  Fellowship Program          Closed   \n",
       "9       6411  Working Professionals     Backend Program          Closed   \n",
       "\n",
       "  Created Time (Ticket)  Ticket Closed Time        First Response Time  \\\n",
       "0   2021-05-14 01:09:00 2021-05-14 19:04:00 2021-05-14 08:51:07.000000   \n",
       "1   2021-05-14 10:12:00 2021-05-14 11:23:00 2021-05-14 17:50:23.674863   \n",
       "2   2021-05-14 11:46:00 2021-05-16 00:09:00 2021-05-14 18:14:51.000000   \n",
       "3   2021-05-14 01:08:00 2021-05-14 19:04:00 2021-05-14 14:45:04.000000   \n",
       "4   2021-05-14 12:17:00 2021-05-14 20:39:00 2021-05-14 12:21:13.000000   \n",
       "5   2021-05-14 13:04:00 2021-05-16 12:43:00 2021-05-14 20:44:12.000000   \n",
       "6   2021-05-14 01:12:00 2021-05-14 01:13:00 2021-05-14 08:50:23.674863   \n",
       "7   2021-05-14 01:23:00 2021-05-18 19:15:00 2021-05-14 14:15:15.000000   \n",
       "8   2021-05-14 00:26:00 2021-05-14 11:18:00 2021-05-14 08:32:46.000000   \n",
       "9   2021-05-14 02:15:00 2021-05-17 22:19:00 2021-05-14 11:54:30.000000   \n",
       "\n",
       "       Project Phase  \n",
       "0        trial phase  \n",
       "1        trial phase  \n",
       "2        trial phase  \n",
       "3  fullstack-phase-1  \n",
       "4        trial phase  \n",
       "5  fullstack-phase-1  \n",
       "6  fullstack-phase-2  \n",
       "7  fullstack-phase-2  \n",
       "8      system-issues  \n",
       "9     backend-phase2  "
      ]
     },
     "execution_count": 57,
     "metadata": {},
     "output_type": "execute_result"
    }
   ],
   "source": [
    "data.head(10) "
   ]
  },
  {
   "cell_type": "markdown",
   "id": "3a9b02b4",
   "metadata": {},
   "source": [
    "# Finding total no of students and working people raising the tickets."
   ]
  },
  {
   "cell_type": "code",
   "execution_count": 18,
   "id": "3cbd3d2e",
   "metadata": {},
   "outputs": [
    {
     "name": "stdout",
     "output_type": "stream",
     "text": [
      "no of working professionals :  328\n",
      "no of working professionals :  148\n"
     ]
    }
   ],
   "source": [
    "count=pd.DataFrame(data[\"Student or WP\"].value_counts())\n",
    "print(\"no of working professionals : \",count[\"Student or WP\"][0])\n",
    "print(\"no of working professionals : \",count[\"Student or WP\"][1])"
   ]
  },
  {
   "cell_type": "code",
   "execution_count": 19,
   "id": "d0fad913",
   "metadata": {},
   "outputs": [
    {
     "data": {
      "image/png": "[encoded data removed]",
      "text/plain": [
       "<Figure size 432x288 with 1 Axes>"
      ]
     },
     "metadata": {
      "needs_background": "light"
     },
     "output_type": "display_data"
    },
    {
     "name": "stdout",
     "output_type": "stream",
     "text": [
      "From this plot we can easily say that working professionals are raising more tickets(queries)\n"
     ]
    }
   ],
   "source": [
    "fig,ax=plt.subplots()\n",
    "ax.bar(count.index,count[\"Student or WP\"])\n",
    "ax.set_ylabel(\"count of tickets\")\n",
    "plt.show()\n",
    "print(\"From this plot we can easily say that working professionals are raising more tickets(queries)\")"
   ]
  },
  {
   "cell_type": "code",
   "execution_count": 20,
   "id": "4ebaa033",
   "metadata": {},
   "outputs": [
    {
     "data": {
      "image/png": "[encoded data removed]",
      "text/plain": [
       "<Figure size 432x288 with 1 Axes>"
      ]
     },
     "metadata": {
      "needs_background": "light"
     },
     "output_type": "display_data"
    }
   ],
   "source": [
    "sns.countplot(x=data[\"Student or WP\"])\n",
    "plt.show()"
   ]
  },
  {
   "cell_type": "markdown",
   "id": "7f34b120",
   "metadata": {},
   "source": [
    "# Finding the average first responce time to the tickets(queries)."
   ]
  },
  {
   "cell_type": "code",
   "execution_count": 21,
   "id": "892dd314",
   "metadata": {},
   "outputs": [
    {
     "data": {
      "text/plain": [
       "Timedelta('0 days 07:38:23.674863298')"
      ]
     },
     "execution_count": 21,
     "metadata": {},
     "output_type": "execute_result"
    }
   ],
   "source": [
    "avg_first_res_time = np.mean(data[\"First Response Time\"]-data[\"Created Time (Ticket)\"])\n",
    "avg_first_res_time\n"
   ]
  },
  {
   "cell_type": "code",
   "execution_count": 22,
   "id": "589efff6",
   "metadata": {},
   "outputs": [
    {
     "name": "stdout",
     "output_type": "stream",
     "text": [
      "On an average the students are getting first respose in 0 days 07:38:23.674863298 \n"
     ]
    }
   ],
   "source": [
    "print(\"On an average the students are getting first respose in {} \".format(avg_first_res_time))"
   ]
  },
  {
   "cell_type": "markdown",
   "id": "a4a9f916",
   "metadata": {},
   "source": [
    "# Top 10 queries that took more time to resolve"
   ]
  },
  {
   "cell_type": "code",
   "execution_count": 23,
   "id": "99e6a37d",
   "metadata": {},
   "outputs": [],
   "source": [
    "#creating a new colum with the time required to solve each query.\n",
    "data[\"time_taken\"]=(data[\"Ticket Closed Time\"]-data[\"Created Time (Ticket)\"])"
   ]
  },
  {
   "cell_type": "code",
   "execution_count": 24,
   "id": "b5333261",
   "metadata": {},
   "outputs": [],
   "source": [
    "# Getting the indexes of the top 10 time taken queries to solve.\n",
    "top_10=data[\"time_taken\"].nlargest(10).index.tolist()"
   ]
  },
  {
   "cell_type": "code",
   "execution_count": 25,
   "id": "7634176c",
   "metadata": {},
   "outputs": [
    {
     "data": {
      "text/html": [
       "<div>\n",
       "<style scoped>\n",
       "    .dataframe tbody tr th:only-of-type {\n",
       "        vertical-align: middle;\n",
       "    }\n",
       "\n",
       "    .dataframe tbody tr th {\n",
       "        vertical-align: top;\n",
       "    }\n",
       "\n",
       "    .dataframe thead th {\n",
       "        text-align: right;\n",
       "    }\n",
       "</style>\n",
       "<table border=\"1\" class=\"dataframe\">\n",
       "  <thead>\n",
       "    <tr style=\"text-align: right;\">\n",
       "      <th></th>\n",
       "      <th>Ticket Id</th>\n",
       "      <th>Student or WP</th>\n",
       "      <th>Program Name</th>\n",
       "      <th>Status (Ticket)</th>\n",
       "      <th>Project Phase</th>\n",
       "      <th>time_taken</th>\n",
       "    </tr>\n",
       "  </thead>\n",
       "  <tbody>\n",
       "    <tr>\n",
       "      <th>41</th>\n",
       "      <td>6525</td>\n",
       "      <td>Student</td>\n",
       "      <td>Fullstack Program</td>\n",
       "      <td>Closed</td>\n",
       "      <td>fullstack-phase-1</td>\n",
       "      <td>6 days 18:50:00</td>\n",
       "    </tr>\n",
       "    <tr>\n",
       "      <th>179</th>\n",
       "      <td>6748</td>\n",
       "      <td>Working Professionals</td>\n",
       "      <td>Backend Program</td>\n",
       "      <td>Closed</td>\n",
       "      <td>backend-phase-3</td>\n",
       "      <td>4 days 20:55:00</td>\n",
       "    </tr>\n",
       "    <tr>\n",
       "      <th>7</th>\n",
       "      <td>6405</td>\n",
       "      <td>Student</td>\n",
       "      <td>Fullstack Program</td>\n",
       "      <td>Closed</td>\n",
       "      <td>fullstack-phase-2</td>\n",
       "      <td>4 days 17:52:00</td>\n",
       "    </tr>\n",
       "    <tr>\n",
       "      <th>39</th>\n",
       "      <td>6505</td>\n",
       "      <td>Working Professionals</td>\n",
       "      <td>Backend Program</td>\n",
       "      <td>Closed</td>\n",
       "      <td>backend-phase1</td>\n",
       "      <td>4 days 14:16:00</td>\n",
       "    </tr>\n",
       "    <tr>\n",
       "      <th>225</th>\n",
       "      <td>6776</td>\n",
       "      <td>Working Professionals</td>\n",
       "      <td>Backend Program</td>\n",
       "      <td>Closed</td>\n",
       "      <td>fullstack-phase-1</td>\n",
       "      <td>4 days 11:13:00</td>\n",
       "    </tr>\n",
       "    <tr>\n",
       "      <th>65</th>\n",
       "      <td>6508</td>\n",
       "      <td>Working Professionals</td>\n",
       "      <td>Backend Program</td>\n",
       "      <td>Closed</td>\n",
       "      <td>system-issues</td>\n",
       "      <td>4 days 01:31:00</td>\n",
       "    </tr>\n",
       "    <tr>\n",
       "      <th>102</th>\n",
       "      <td>6633</td>\n",
       "      <td>Student</td>\n",
       "      <td>Fullstack Program</td>\n",
       "      <td>Closed</td>\n",
       "      <td>fullstack-phase-4</td>\n",
       "      <td>3 days 23:15:00</td>\n",
       "    </tr>\n",
       "    <tr>\n",
       "      <th>113</th>\n",
       "      <td>6642</td>\n",
       "      <td>Working Professionals</td>\n",
       "      <td>Backend Program</td>\n",
       "      <td>Closed</td>\n",
       "      <td>backend-phase2</td>\n",
       "      <td>3 days 23:14:00</td>\n",
       "    </tr>\n",
       "    <tr>\n",
       "      <th>9</th>\n",
       "      <td>6411</td>\n",
       "      <td>Working Professionals</td>\n",
       "      <td>Backend Program</td>\n",
       "      <td>Closed</td>\n",
       "      <td>backend-phase2</td>\n",
       "      <td>3 days 20:04:00</td>\n",
       "    </tr>\n",
       "    <tr>\n",
       "      <th>47</th>\n",
       "      <td>6548</td>\n",
       "      <td>Student</td>\n",
       "      <td>Fullstack Program</td>\n",
       "      <td>Closed</td>\n",
       "      <td>trial phase</td>\n",
       "      <td>3 days 08:37:00</td>\n",
       "    </tr>\n",
       "  </tbody>\n",
       "</table>\n",
       "</div>"
      ],
      "text/plain": [
       "     Ticket Id          Student or WP       Program Name Status (Ticket)  \\\n",
       "41        6525                Student  Fullstack Program          Closed   \n",
       "179       6748  Working Professionals    Backend Program          Closed   \n",
       "7         6405                Student  Fullstack Program          Closed   \n",
       "39        6505  Working Professionals    Backend Program          Closed   \n",
       "225       6776  Working Professionals    Backend Program          Closed   \n",
       "65        6508  Working Professionals    Backend Program          Closed   \n",
       "102       6633                Student  Fullstack Program          Closed   \n",
       "113       6642  Working Professionals    Backend Program          Closed   \n",
       "9         6411  Working Professionals    Backend Program          Closed   \n",
       "47        6548                Student  Fullstack Program          Closed   \n",
       "\n",
       "         Project Phase      time_taken  \n",
       "41   fullstack-phase-1 6 days 18:50:00  \n",
       "179    backend-phase-3 4 days 20:55:00  \n",
       "7    fullstack-phase-2 4 days 17:52:00  \n",
       "39      backend-phase1 4 days 14:16:00  \n",
       "225  fullstack-phase-1 4 days 11:13:00  \n",
       "65       system-issues 4 days 01:31:00  \n",
       "102  fullstack-phase-4 3 days 23:15:00  \n",
       "113     backend-phase2 3 days 23:14:00  \n",
       "9       backend-phase2 3 days 20:04:00  \n",
       "47         trial phase 3 days 08:37:00  "
      ]
     },
     "execution_count": 25,
     "metadata": {},
     "output_type": "execute_result"
    }
   ],
   "source": [
    "# printing out the information of those queries.\n",
    "data.loc[top_10,[\"Ticket Id\",\"Student or WP\",\"Program Name\",\"Status (Ticket)\",\"Project Phase\",\"time_taken\"]]"
   ]
  },
  {
   "cell_type": "code",
   "execution_count": 26,
   "id": "9ceb7706",
   "metadata": {},
   "outputs": [
    {
     "data": {
      "text/html": [
       "<div>\n",
       "<style scoped>\n",
       "    .dataframe tbody tr th:only-of-type {\n",
       "        vertical-align: middle;\n",
       "    }\n",
       "\n",
       "    .dataframe tbody tr th {\n",
       "        vertical-align: top;\n",
       "    }\n",
       "\n",
       "    .dataframe thead th {\n",
       "        text-align: right;\n",
       "    }\n",
       "</style>\n",
       "<table border=\"1\" class=\"dataframe\">\n",
       "  <thead>\n",
       "    <tr style=\"text-align: right;\">\n",
       "      <th></th>\n",
       "      <th>Ticket Id</th>\n",
       "      <th>Student or WP</th>\n",
       "      <th>Program Name</th>\n",
       "      <th>Status (Ticket)</th>\n",
       "      <th>Created Time (Ticket)</th>\n",
       "      <th>Ticket Closed Time</th>\n",
       "      <th>First Response Time</th>\n",
       "      <th>Project Phase</th>\n",
       "      <th>time_taken</th>\n",
       "    </tr>\n",
       "  </thead>\n",
       "  <tbody>\n",
       "    <tr>\n",
       "      <th>0</th>\n",
       "      <td>6403</td>\n",
       "      <td>Working Professionals</td>\n",
       "      <td>Fullstack Program</td>\n",
       "      <td>Closed</td>\n",
       "      <td>2021-05-14 01:09:00</td>\n",
       "      <td>2021-05-14 19:04:00.000000</td>\n",
       "      <td>2021-05-14 08:51:07.000000</td>\n",
       "      <td>trial phase</td>\n",
       "      <td>0 days 17:55:00</td>\n",
       "    </tr>\n",
       "    <tr>\n",
       "      <th>1</th>\n",
       "      <td>6415</td>\n",
       "      <td>Working Professionals</td>\n",
       "      <td>Backend Program</td>\n",
       "      <td>Duplicate</td>\n",
       "      <td>2021-05-14 10:12:00</td>\n",
       "      <td>2021-05-14 11:23:00.000000</td>\n",
       "      <td>2021-05-14 17:50:23.674863</td>\n",
       "      <td>trial phase</td>\n",
       "      <td>0 days 01:11:00</td>\n",
       "    </tr>\n",
       "    <tr>\n",
       "      <th>2</th>\n",
       "      <td>6420</td>\n",
       "      <td>Working Professionals</td>\n",
       "      <td>Fullstack Program</td>\n",
       "      <td>Closed</td>\n",
       "      <td>2021-05-14 11:46:00</td>\n",
       "      <td>2021-05-16 00:09:00.000000</td>\n",
       "      <td>2021-05-14 18:14:51.000000</td>\n",
       "      <td>trial phase</td>\n",
       "      <td>1 days 12:23:00</td>\n",
       "    </tr>\n",
       "    <tr>\n",
       "      <th>3</th>\n",
       "      <td>6402</td>\n",
       "      <td>Student</td>\n",
       "      <td>Fullstack Program</td>\n",
       "      <td>Closed</td>\n",
       "      <td>2021-05-14 01:08:00</td>\n",
       "      <td>2021-05-14 19:04:00.000000</td>\n",
       "      <td>2021-05-14 14:45:04.000000</td>\n",
       "      <td>fullstack-phase-1</td>\n",
       "      <td>0 days 17:56:00</td>\n",
       "    </tr>\n",
       "    <tr>\n",
       "      <th>4</th>\n",
       "      <td>6423</td>\n",
       "      <td>Working Professionals</td>\n",
       "      <td>Fellowship Program</td>\n",
       "      <td>Closed</td>\n",
       "      <td>2021-05-14 12:17:00</td>\n",
       "      <td>2021-05-14 20:39:00.000000</td>\n",
       "      <td>2021-05-14 12:21:13.000000</td>\n",
       "      <td>trial phase</td>\n",
       "      <td>0 days 08:22:00</td>\n",
       "    </tr>\n",
       "    <tr>\n",
       "      <th>...</th>\n",
       "      <td>...</td>\n",
       "      <td>...</td>\n",
       "      <td>...</td>\n",
       "      <td>...</td>\n",
       "      <td>...</td>\n",
       "      <td>...</td>\n",
       "      <td>...</td>\n",
       "      <td>...</td>\n",
       "      <td>...</td>\n",
       "    </tr>\n",
       "    <tr>\n",
       "      <th>471</th>\n",
       "      <td>7163</td>\n",
       "      <td>Working Professionals</td>\n",
       "      <td>Backend Program</td>\n",
       "      <td>Closed</td>\n",
       "      <td>2021-05-20 21:46:00</td>\n",
       "      <td>2021-05-22 09:11:00.000000</td>\n",
       "      <td>2021-05-20 21:49:19.000000</td>\n",
       "      <td>system-issues</td>\n",
       "      <td>1 days 11:25:00</td>\n",
       "    </tr>\n",
       "    <tr>\n",
       "      <th>472</th>\n",
       "      <td>7167</td>\n",
       "      <td>Working Professionals</td>\n",
       "      <td>Fullstack Program</td>\n",
       "      <td>Closed</td>\n",
       "      <td>2021-05-20 21:57:00</td>\n",
       "      <td>2021-05-20 22:57:00.000000</td>\n",
       "      <td>2021-05-20 22:56:25.000000</td>\n",
       "      <td>fullstack-phase-1</td>\n",
       "      <td>0 days 01:00:00</td>\n",
       "    </tr>\n",
       "    <tr>\n",
       "      <th>473</th>\n",
       "      <td>7171</td>\n",
       "      <td>Working Professionals</td>\n",
       "      <td>Fullstack Program</td>\n",
       "      <td>Open</td>\n",
       "      <td>2021-05-20 23:10:00</td>\n",
       "      <td>2021-05-21 20:09:28.461538</td>\n",
       "      <td>2021-05-21 06:48:23.674863</td>\n",
       "      <td>fullstack-phase-2</td>\n",
       "      <td>0 days 20:59:28.461538</td>\n",
       "    </tr>\n",
       "    <tr>\n",
       "      <th>474</th>\n",
       "      <td>7177</td>\n",
       "      <td>Student</td>\n",
       "      <td>Backend Program</td>\n",
       "      <td>Deleted</td>\n",
       "      <td>2021-05-20 23:39:00</td>\n",
       "      <td>2021-05-20 23:57:00.000000</td>\n",
       "      <td>2021-05-21 07:17:23.674863</td>\n",
       "      <td>backend-phase1</td>\n",
       "      <td>0 days 00:18:00</td>\n",
       "    </tr>\n",
       "    <tr>\n",
       "      <th>475</th>\n",
       "      <td>7165</td>\n",
       "      <td>Working Professionals</td>\n",
       "      <td>Backend Program</td>\n",
       "      <td>Duplicate</td>\n",
       "      <td>2021-05-20 21:52:00</td>\n",
       "      <td>2021-05-21 22:35:00.000000</td>\n",
       "      <td>2021-05-20 22:41:04.000000</td>\n",
       "      <td>fullstack-phase-2</td>\n",
       "      <td>1 days 00:43:00</td>\n",
       "    </tr>\n",
       "  </tbody>\n",
       "</table>\n",
       "<p>476 rows × 9 columns</p>\n",
       "</div>"
      ],
      "text/plain": [
       "     Ticket Id          Student or WP        Program Name Status (Ticket)  \\\n",
       "0         6403  Working Professionals   Fullstack Program          Closed   \n",
       "1         6415  Working Professionals     Backend Program       Duplicate   \n",
       "2         6420  Working Professionals   Fullstack Program          Closed   \n",
       "3         6402                Student   Fullstack Program          Closed   \n",
       "4         6423  Working Professionals  Fellowship Program          Closed   \n",
       "..         ...                    ...                 ...             ...   \n",
       "471       7163  Working Professionals     Backend Program          Closed   \n",
       "472       7167  Working Professionals   Fullstack Program          Closed   \n",
       "473       7171  Working Professionals   Fullstack Program            Open   \n",
       "474       7177                Student     Backend Program         Deleted   \n",
       "475       7165  Working Professionals     Backend Program       Duplicate   \n",
       "\n",
       "    Created Time (Ticket)         Ticket Closed Time  \\\n",
       "0     2021-05-14 01:09:00 2021-05-14 19:04:00.000000   \n",
       "1     2021-05-14 10:12:00 2021-05-14 11:23:00.000000   \n",
       "2     2021-05-14 11:46:00 2021-05-16 00:09:00.000000   \n",
       "3     2021-05-14 01:08:00 2021-05-14 19:04:00.000000   \n",
       "4     2021-05-14 12:17:00 2021-05-14 20:39:00.000000   \n",
       "..                    ...                        ...   \n",
       "471   2021-05-20 21:46:00 2021-05-22 09:11:00.000000   \n",
       "472   2021-05-20 21:57:00 2021-05-20 22:57:00.000000   \n",
       "473   2021-05-20 23:10:00 2021-05-21 20:09:28.461538   \n",
       "474   2021-05-20 23:39:00 2021-05-20 23:57:00.000000   \n",
       "475   2021-05-20 21:52:00 2021-05-21 22:35:00.000000   \n",
       "\n",
       "           First Response Time      Project Phase             time_taken  \n",
       "0   2021-05-14 08:51:07.000000        trial phase        0 days 17:55:00  \n",
       "1   2021-05-14 17:50:23.674863        trial phase        0 days 01:11:00  \n",
       "2   2021-05-14 18:14:51.000000        trial phase        1 days 12:23:00  \n",
       "3   2021-05-14 14:45:04.000000  fullstack-phase-1        0 days 17:56:00  \n",
       "4   2021-05-14 12:21:13.000000        trial phase        0 days 08:22:00  \n",
       "..                         ...                ...                    ...  \n",
       "471 2021-05-20 21:49:19.000000      system-issues        1 days 11:25:00  \n",
       "472 2021-05-20 22:56:25.000000  fullstack-phase-1        0 days 01:00:00  \n",
       "473 2021-05-21 06:48:23.674863  fullstack-phase-2 0 days 20:59:28.461538  \n",
       "474 2021-05-21 07:17:23.674863     backend-phase1        0 days 00:18:00  \n",
       "475 2021-05-20 22:41:04.000000  fullstack-phase-2        1 days 00:43:00  \n",
       "\n",
       "[476 rows x 9 columns]"
      ]
     },
     "execution_count": 26,
     "metadata": {},
     "output_type": "execute_result"
    }
   ],
   "source": [
    "data"
   ]
  },
  {
   "cell_type": "markdown",
   "id": "083188c5",
   "metadata": {},
   "source": [
    "# Which Phase of Project is having highest Queries?\n"
   ]
  },
  {
   "cell_type": "code",
   "execution_count": 27,
   "id": "ea08da75",
   "metadata": {},
   "outputs": [
    {
     "data": {
      "text/html": [
       "<div>\n",
       "<style scoped>\n",
       "    .dataframe tbody tr th:only-of-type {\n",
       "        vertical-align: middle;\n",
       "    }\n",
       "\n",
       "    .dataframe tbody tr th {\n",
       "        vertical-align: top;\n",
       "    }\n",
       "\n",
       "    .dataframe thead th {\n",
       "        text-align: right;\n",
       "    }\n",
       "</style>\n",
       "<table border=\"1\" class=\"dataframe\">\n",
       "  <thead>\n",
       "    <tr style=\"text-align: right;\">\n",
       "      <th></th>\n",
       "      <th>Project Phase</th>\n",
       "    </tr>\n",
       "  </thead>\n",
       "  <tbody>\n",
       "    <tr>\n",
       "      <th>fullstack-phase-2</th>\n",
       "      <td>96</td>\n",
       "    </tr>\n",
       "    <tr>\n",
       "      <th>fullstack-phase-1</th>\n",
       "      <td>88</td>\n",
       "    </tr>\n",
       "    <tr>\n",
       "      <th>system-issues</th>\n",
       "      <td>77</td>\n",
       "    </tr>\n",
       "    <tr>\n",
       "      <th>fellowship-phase-1</th>\n",
       "      <td>46</td>\n",
       "    </tr>\n",
       "    <tr>\n",
       "      <th>backend-phase2</th>\n",
       "      <td>45</td>\n",
       "    </tr>\n",
       "    <tr>\n",
       "      <th>trial phase</th>\n",
       "      <td>32</td>\n",
       "    </tr>\n",
       "    <tr>\n",
       "      <th>backend-phase1</th>\n",
       "      <td>29</td>\n",
       "    </tr>\n",
       "    <tr>\n",
       "      <th>fullstack-phase-3</th>\n",
       "      <td>29</td>\n",
       "    </tr>\n",
       "    <tr>\n",
       "      <th>backend-phase-3</th>\n",
       "      <td>17</td>\n",
       "    </tr>\n",
       "    <tr>\n",
       "      <th>fullstack-phase-4</th>\n",
       "      <td>17</td>\n",
       "    </tr>\n",
       "  </tbody>\n",
       "</table>\n",
       "</div>"
      ],
      "text/plain": [
       "                    Project Phase\n",
       "fullstack-phase-2              96\n",
       "fullstack-phase-1              88\n",
       "system-issues                  77\n",
       "fellowship-phase-1             46\n",
       "backend-phase2                 45\n",
       "trial phase                    32\n",
       "backend-phase1                 29\n",
       "fullstack-phase-3              29\n",
       "backend-phase-3                17\n",
       "fullstack-phase-4              17"
      ]
     },
     "execution_count": 27,
     "metadata": {},
     "output_type": "execute_result"
    }
   ],
   "source": [
    "phase_counts=pd.DataFrame(data[\"Project Phase\"].value_counts(ascending=False))\n",
    "phase_counts"
   ]
  },
  {
   "cell_type": "code",
   "execution_count": 28,
   "id": "45b131c2",
   "metadata": {},
   "outputs": [
    {
     "data": {
      "image/png": "[encoded data removed]",
      "text/plain": [
       "<Figure size 432x288 with 1 Axes>"
      ]
     },
     "metadata": {
      "needs_background": "light"
     },
     "output_type": "display_data"
    }
   ],
   "source": [
    "sns.countplot(y=data[\"Project Phase\"])\n",
    "plt.show()"
   ]
  },
  {
   "cell_type": "markdown",
   "id": "dc9ad78c",
   "metadata": {},
   "source": [
    "# Which project phase queries are taking a long time to resolve?"
   ]
  },
  {
   "cell_type": "code",
   "execution_count": 29,
   "id": "844aa829",
   "metadata": {},
   "outputs": [],
   "source": [
    "data['int_time_taken'] = data['time_taken'].values.astype(np.int64)        #converting the datetime dtype to int datatype.\n",
    "\n",
    "average_time = data.groupby('Project Phase').mean()                        # grouping by project pahse column.\n",
    "average_time['avg_time_taken'] = pd.to_timedelta(average_time['int_time_taken']) # again converting back to datetime format."
   ]
  },
  {
   "cell_type": "code",
   "execution_count": 30,
   "id": "b4e17ece",
   "metadata": {},
   "outputs": [],
   "source": [
    "phase_avg_time=pd.DataFrame(average_time[\"avg_time_taken\"].nlargest(100)) # arranging in descending order wrt avg_time_taken"
   ]
  },
  {
   "cell_type": "code",
   "execution_count": 31,
   "id": "f336dea5",
   "metadata": {},
   "outputs": [
    {
     "data": {
      "text/html": [
       "<div>\n",
       "<style scoped>\n",
       "    .dataframe tbody tr th:only-of-type {\n",
       "        vertical-align: middle;\n",
       "    }\n",
       "\n",
       "    .dataframe tbody tr th {\n",
       "        vertical-align: top;\n",
       "    }\n",
       "\n",
       "    .dataframe thead th {\n",
       "        text-align: right;\n",
       "    }\n",
       "</style>\n",
       "<table border=\"1\" class=\"dataframe\">\n",
       "  <thead>\n",
       "    <tr style=\"text-align: right;\">\n",
       "      <th></th>\n",
       "      <th>avg_time_taken</th>\n",
       "    </tr>\n",
       "    <tr>\n",
       "      <th>Project Phase</th>\n",
       "      <th></th>\n",
       "    </tr>\n",
       "  </thead>\n",
       "  <tbody>\n",
       "    <tr>\n",
       "      <th>fullstack-phase-4</th>\n",
       "      <td>1 days 08:54:58.144796352</td>\n",
       "    </tr>\n",
       "    <tr>\n",
       "      <th>backend-phase-3</th>\n",
       "      <td>1 days 01:05:56.470588235</td>\n",
       "    </tr>\n",
       "    <tr>\n",
       "      <th>backend-phase1</th>\n",
       "      <td>0 days 22:33:10.344827586</td>\n",
       "    </tr>\n",
       "    <tr>\n",
       "      <th>fullstack-phase-1</th>\n",
       "      <td>0 days 22:27:50.777972022</td>\n",
       "    </tr>\n",
       "    <tr>\n",
       "      <th>fullstack-phase-2</th>\n",
       "      <td>0 days 21:28:34.014423062</td>\n",
       "    </tr>\n",
       "    <tr>\n",
       "      <th>fellowship-phase-1</th>\n",
       "      <td>0 days 20:41:52.792642130</td>\n",
       "    </tr>\n",
       "    <tr>\n",
       "      <th>backend-phase2</th>\n",
       "      <td>0 days 20:10:29.333333333</td>\n",
       "    </tr>\n",
       "    <tr>\n",
       "      <th>trial phase</th>\n",
       "      <td>0 days 18:50:09.375000</td>\n",
       "    </tr>\n",
       "    <tr>\n",
       "      <th>system-issues</th>\n",
       "      <td>0 days 18:12:20.219780207</td>\n",
       "    </tr>\n",
       "    <tr>\n",
       "      <th>fullstack-phase-3</th>\n",
       "      <td>0 days 15:27:47.586206896</td>\n",
       "    </tr>\n",
       "  </tbody>\n",
       "</table>\n",
       "</div>"
      ],
      "text/plain": [
       "                              avg_time_taken\n",
       "Project Phase                               \n",
       "fullstack-phase-4  1 days 08:54:58.144796352\n",
       "backend-phase-3    1 days 01:05:56.470588235\n",
       "backend-phase1     0 days 22:33:10.344827586\n",
       "fullstack-phase-1  0 days 22:27:50.777972022\n",
       "fullstack-phase-2  0 days 21:28:34.014423062\n",
       "fellowship-phase-1 0 days 20:41:52.792642130\n",
       "backend-phase2     0 days 20:10:29.333333333\n",
       "trial phase           0 days 18:50:09.375000\n",
       "system-issues      0 days 18:12:20.219780207\n",
       "fullstack-phase-3  0 days 15:27:47.586206896"
      ]
     },
     "execution_count": 31,
     "metadata": {},
     "output_type": "execute_result"
    }
   ],
   "source": [
    "phase_avg_time"
   ]
  },
  {
   "cell_type": "code",
   "execution_count": null,
   "id": "47e19869",
   "metadata": {},
   "outputs": [],
   "source": []
  },
  {
   "cell_type": "markdown",
   "id": "c8418368",
   "metadata": {},
   "source": [
    "# On which day highest queries were resolved?\n"
   ]
  },
  {
   "cell_type": "code",
   "execution_count": 40,
   "id": "8f125b9d",
   "metadata": {},
   "outputs": [
    {
     "data": {
      "text/html": [
       "<div>\n",
       "<style scoped>\n",
       "    .dataframe tbody tr th:only-of-type {\n",
       "        vertical-align: middle;\n",
       "    }\n",
       "\n",
       "    .dataframe tbody tr th {\n",
       "        vertical-align: top;\n",
       "    }\n",
       "\n",
       "    .dataframe thead th {\n",
       "        text-align: right;\n",
       "    }\n",
       "</style>\n",
       "<table border=\"1\" class=\"dataframe\">\n",
       "  <thead>\n",
       "    <tr style=\"text-align: right;\">\n",
       "      <th></th>\n",
       "      <th>Ticket Id</th>\n",
       "      <th>Student or WP</th>\n",
       "      <th>Program Name</th>\n",
       "      <th>Status (Ticket)</th>\n",
       "      <th>Created Time (Ticket)</th>\n",
       "      <th>Ticket Closed Time</th>\n",
       "      <th>First Response Time</th>\n",
       "      <th>Project Phase</th>\n",
       "      <th>time_taken</th>\n",
       "      <th>int_time_taken</th>\n",
       "      <th>query_date</th>\n",
       "    </tr>\n",
       "  </thead>\n",
       "  <tbody>\n",
       "    <tr>\n",
       "      <th>0</th>\n",
       "      <td>6403</td>\n",
       "      <td>Working Professionals</td>\n",
       "      <td>Fullstack Program</td>\n",
       "      <td>Closed</td>\n",
       "      <td>2021-05-14 01:09:00</td>\n",
       "      <td>2021-05-14 19:04:00</td>\n",
       "      <td>2021-05-14 08:51:07.000000</td>\n",
       "      <td>trial phase</td>\n",
       "      <td>0 days 17:55:00</td>\n",
       "      <td>64500000000000</td>\n",
       "      <td>2021-05-14</td>\n",
       "    </tr>\n",
       "    <tr>\n",
       "      <th>1</th>\n",
       "      <td>6415</td>\n",
       "      <td>Working Professionals</td>\n",
       "      <td>Backend Program</td>\n",
       "      <td>Duplicate</td>\n",
       "      <td>2021-05-14 10:12:00</td>\n",
       "      <td>2021-05-14 11:23:00</td>\n",
       "      <td>2021-05-14 17:50:23.674863</td>\n",
       "      <td>trial phase</td>\n",
       "      <td>0 days 01:11:00</td>\n",
       "      <td>4260000000000</td>\n",
       "      <td>2021-05-14</td>\n",
       "    </tr>\n",
       "    <tr>\n",
       "      <th>2</th>\n",
       "      <td>6420</td>\n",
       "      <td>Working Professionals</td>\n",
       "      <td>Fullstack Program</td>\n",
       "      <td>Closed</td>\n",
       "      <td>2021-05-14 11:46:00</td>\n",
       "      <td>2021-05-16 00:09:00</td>\n",
       "      <td>2021-05-14 18:14:51.000000</td>\n",
       "      <td>trial phase</td>\n",
       "      <td>1 days 12:23:00</td>\n",
       "      <td>130980000000000</td>\n",
       "      <td>2021-05-16</td>\n",
       "    </tr>\n",
       "  </tbody>\n",
       "</table>\n",
       "</div>"
      ],
      "text/plain": [
       "   Ticket Id          Student or WP       Program Name Status (Ticket)  \\\n",
       "0       6403  Working Professionals  Fullstack Program          Closed   \n",
       "1       6415  Working Professionals    Backend Program       Duplicate   \n",
       "2       6420  Working Professionals  Fullstack Program          Closed   \n",
       "\n",
       "  Created Time (Ticket)  Ticket Closed Time        First Response Time  \\\n",
       "0   2021-05-14 01:09:00 2021-05-14 19:04:00 2021-05-14 08:51:07.000000   \n",
       "1   2021-05-14 10:12:00 2021-05-14 11:23:00 2021-05-14 17:50:23.674863   \n",
       "2   2021-05-14 11:46:00 2021-05-16 00:09:00 2021-05-14 18:14:51.000000   \n",
       "\n",
       "  Project Phase      time_taken   int_time_taken  query_date  \n",
       "0   trial phase 0 days 17:55:00   64500000000000  2021-05-14  \n",
       "1   trial phase 0 days 01:11:00    4260000000000  2021-05-14  \n",
       "2   trial phase 1 days 12:23:00  130980000000000  2021-05-16  "
      ]
     },
     "execution_count": 40,
     "metadata": {},
     "output_type": "execute_result"
    }
   ],
   "source": [
    "\n",
    "data[\"query_date\"]=(data[\"Ticket Closed Time\"]).dt.date\n",
    "data.head(3)"
   ]
  },
  {
   "cell_type": "code",
   "execution_count": 33,
   "id": "e78125b8",
   "metadata": {},
   "outputs": [
    {
     "data": {
      "text/plain": [
       "2021-05-18    127\n",
       "2021-05-19     91\n",
       "2021-05-16     75\n",
       "2021-05-20     68\n",
       "2021-05-17     56\n",
       "2021-05-21     24\n",
       "2021-05-14     23\n",
       "2021-05-15     11\n",
       "2021-05-22      1\n",
       "Name: query_date, dtype: int64"
      ]
     },
     "execution_count": 33,
     "metadata": {},
     "output_type": "execute_result"
    }
   ],
   "source": [
    "data[\"query_date\"].value_counts(ascending=False).head(10)"
   ]
  },
  {
   "cell_type": "code",
   "execution_count": 34,
   "id": "5ea9acfe",
   "metadata": {},
   "outputs": [
    {
     "name": "stdout",
     "output_type": "stream",
     "text": [
      "WE can say that on 2021-05-18 we got more quries were resolved\n"
     ]
    }
   ],
   "source": [
    "print(\"WE can say that on 2021-05-18 we got more quries were resolved\")"
   ]
  },
  {
   "cell_type": "code",
   "execution_count": 35,
   "id": "382a5361",
   "metadata": {},
   "outputs": [
    {
     "data": {
      "image/png": "[encoded data removed]",
      "text/plain": [
       "<Figure size 432x288 with 1 Axes>"
      ]
     },
     "metadata": {
      "needs_background": "light"
     },
     "output_type": "display_data"
    }
   ],
   "source": [
    "sns.countplot(y=data[\"query_date\"])\n",
    "plt.show()"
   ]
  },
  {
   "cell_type": "markdown",
   "id": "d9c0422e",
   "metadata": {},
   "source": [
    "# Which phase queries are easier to resolve?"
   ]
  },
  {
   "cell_type": "code",
   "execution_count": 36,
   "id": "feaffd17",
   "metadata": {},
   "outputs": [],
   "source": [
    "phase_avg_time=pd.DataFrame(average_time[\"avg_time_taken\"].nsmallest(100))"
   ]
  },
  {
   "cell_type": "code",
   "execution_count": 37,
   "id": "eabff54a",
   "metadata": {},
   "outputs": [
    {
     "data": {
      "text/html": [
       "<div>\n",
       "<style scoped>\n",
       "    .dataframe tbody tr th:only-of-type {\n",
       "        vertical-align: middle;\n",
       "    }\n",
       "\n",
       "    .dataframe tbody tr th {\n",
       "        vertical-align: top;\n",
       "    }\n",
       "\n",
       "    .dataframe thead th {\n",
       "        text-align: right;\n",
       "    }\n",
       "</style>\n",
       "<table border=\"1\" class=\"dataframe\">\n",
       "  <thead>\n",
       "    <tr style=\"text-align: right;\">\n",
       "      <th></th>\n",
       "      <th>avg_time_taken</th>\n",
       "    </tr>\n",
       "    <tr>\n",
       "      <th>Project Phase</th>\n",
       "      <th></th>\n",
       "    </tr>\n",
       "  </thead>\n",
       "  <tbody>\n",
       "    <tr>\n",
       "      <th>fullstack-phase-3</th>\n",
       "      <td>0 days 15:27:47.586206896</td>\n",
       "    </tr>\n",
       "    <tr>\n",
       "      <th>system-issues</th>\n",
       "      <td>0 days 18:12:20.219780207</td>\n",
       "    </tr>\n",
       "    <tr>\n",
       "      <th>trial phase</th>\n",
       "      <td>0 days 18:50:09.375000</td>\n",
       "    </tr>\n",
       "    <tr>\n",
       "      <th>backend-phase2</th>\n",
       "      <td>0 days 20:10:29.333333333</td>\n",
       "    </tr>\n",
       "    <tr>\n",
       "      <th>fellowship-phase-1</th>\n",
       "      <td>0 days 20:41:52.792642130</td>\n",
       "    </tr>\n",
       "    <tr>\n",
       "      <th>fullstack-phase-2</th>\n",
       "      <td>0 days 21:28:34.014423062</td>\n",
       "    </tr>\n",
       "    <tr>\n",
       "      <th>fullstack-phase-1</th>\n",
       "      <td>0 days 22:27:50.777972022</td>\n",
       "    </tr>\n",
       "    <tr>\n",
       "      <th>backend-phase1</th>\n",
       "      <td>0 days 22:33:10.344827586</td>\n",
       "    </tr>\n",
       "    <tr>\n",
       "      <th>backend-phase-3</th>\n",
       "      <td>1 days 01:05:56.470588235</td>\n",
       "    </tr>\n",
       "    <tr>\n",
       "      <th>fullstack-phase-4</th>\n",
       "      <td>1 days 08:54:58.144796352</td>\n",
       "    </tr>\n",
       "  </tbody>\n",
       "</table>\n",
       "</div>"
      ],
      "text/plain": [
       "                              avg_time_taken\n",
       "Project Phase                               \n",
       "fullstack-phase-3  0 days 15:27:47.586206896\n",
       "system-issues      0 days 18:12:20.219780207\n",
       "trial phase           0 days 18:50:09.375000\n",
       "backend-phase2     0 days 20:10:29.333333333\n",
       "fellowship-phase-1 0 days 20:41:52.792642130\n",
       "fullstack-phase-2  0 days 21:28:34.014423062\n",
       "fullstack-phase-1  0 days 22:27:50.777972022\n",
       "backend-phase1     0 days 22:33:10.344827586\n",
       "backend-phase-3    1 days 01:05:56.470588235\n",
       "fullstack-phase-4  1 days 08:54:58.144796352"
      ]
     },
     "execution_count": 37,
     "metadata": {},
     "output_type": "execute_result"
    }
   ],
   "source": [
    "phase_avg_time"
   ]
  },
  {
   "cell_type": "code",
   "execution_count": 38,
   "id": "53e771ea",
   "metadata": {},
   "outputs": [
    {
     "name": "stdout",
     "output_type": "stream",
     "text": [
      "By seeing the above table we can say that fullstack-phase-3 queries are a way easier to resolve\n"
     ]
    }
   ],
   "source": [
    "print('By seeing the above table we can say that fullstack-phase-3 queries are a way easier to resolve')"
   ]
  },
  {
   "cell_type": "markdown",
   "id": "4dffd738",
   "metadata": {},
   "source": [
    "# Provide Conclusion for your analysis."
   ]
  },
  {
   "cell_type": "code",
   "execution_count": null,
   "id": "fa49b415",
   "metadata": {},
   "outputs": [],
   "source": []
  },
  {
   "cell_type": "markdown",
   "id": "c7ed7c3f",
   "metadata": {},
   "source": [
    "* Working professionals are raising more queries than students (almost double of students)."
   ]
  },
  {
   "cell_type": "markdown",
   "id": "67fa735a",
   "metadata": {},
   "source": [
    "* Till now we are giving first respose withi seven and half hours from ticket raised time ."
   ]
  },
  {
   "cell_type": "markdown",
   "id": "ff742183",
   "metadata": {},
   "source": [
    "* Fullstack programe queries are taking more time to resolve"
   ]
  },
  {
   "cell_type": "markdown",
   "id": "b8647d02",
   "metadata": {},
   "source": [
    "* We are getting more queries in fullstack-phase-2 of Project Phase."
   ]
  },
  {
   "cell_type": "markdown",
   "id": "f78fb3c3",
   "metadata": {},
   "source": [
    "* fullstack-phase-4 queries are taking more time to solve when compared to another project phases."
   ]
  },
  {
   "cell_type": "markdown",
   "id": "f8132451",
   "metadata": {},
   "source": [
    "* On 2021-05-18  we solved more queries."
   ]
  },
  {
   "cell_type": "code",
   "execution_count": null,
   "id": "e3a2023d",
   "metadata": {},
   "outputs": [],
   "source": [
    " "
   ]
  }
 ],
 "metadata": {
  "kernelspec": {
   "display_name": "Python 3",
   "language": "python",
   "name": "python3"
  },
  "language_info": {
   "codemirror_mode": {
    "name": "ipython",
    "version": 3
   },
   "file_extension": ".py",
   "mimetype": "text/x-python",
   "name": "python",
   "nbconvert_exporter": "python",
   "pygments_lexer": "ipython3",
   "version": "3.8.8"
  }
 },
 "nbformat": 4,
 "nbformat_minor": 5
}
